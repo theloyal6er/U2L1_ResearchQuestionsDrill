{
 "cells": [
  {
   "cell_type": "markdown",
   "metadata": {},
   "source": [
    "Unit 2; Lesson 1\n",
    "Drill: Formulating Good Research Questions\n",
    "\n",
    "1) What is the 1994 rate of juvenile delinquency in the U.S.?\n",
    "- Bad - this does not really inform me much about a particular research proposal to extract more meaning or reasoning. I could simply provide this question with a statistic. A better question might be \"Why is the rate of juvenile delinquency in 1994 at its highest/lowest compared over the past ten years?\" - or a question tailored from that statistic compared year-over-year.\n",
    "\n",
    "2) What can we do to reduce juvenile delinquency in the U.S.?\n",
    "- Good - although broad, there is depth to this question that can involve some level of testing and bias identification. You can easily test how one methodology to reduce juvenile delinquency is better than the other and provide meaningful results as a conclusion to this question.\n",
    "\n",
    "3) Does education play a role in reducing juvenile delinquents' return to crime?\n",
    "- Good - you can extrapolate a wide number of factors regarding education to supplement this question (i.e. grade level, demographic, gender, private/public/charter, etc.) and create juvenile statistics as a result of this. \n",
    "\n",
    "4) How many customers does AT&T currently serve in Washington, DC?\n",
    "- Bad - this is just a question that asks for a statistic you can simply extract. A better question might be \"Why are AT&T customer the most/least popular in the Washington DC area than anywhere else in the United States?\" This question carries a bit more direction and proposes a data-centered experiment.\n",
    "\n",
    "5) What factors lead consumers to choose AT&T over other service providers?\n",
    "- Good - I think this question can be answered on the surface level listing various factors such as pricing, coverage, added benefits, etc. However, the directionality of this question poses a lot of depth. You can potentially list some of the five major service providers and compare across between each of them the depth of service across the country, the prices/benefits they provide, and the added benefits each service provider brings and conduct surveys for each respective customer. This might ultimately create a worthwhile experiment once collecting survey data that is representative of satisfaction with his/her provider.\n",
    "\n",
    "6) How can AT&T attract more customers?\n",
    "- Good - similar to the question above you can run a survey-centered data experiment that lists satisfation surveys between customers and their relationships with service providers. After you can then see how certain services/benefits contribute to new customer acquisition and ultimately create a road map to what services are most important to attract more customers going forward.\n",
    "\n",
    "7) Why did the Challenger Shuttle explode?\n",
    "- Bad - this does not pose much of a data experiment but more just an investigation of reasons as to why something happened. A better question might be \"Of the five different types of shuttles, which one has the greatest likelihood of failing or succeeding based on the dataset given below?\"\n",
    "\n",
    "8) Which genes are associated with increased risk of breast cancer?\n",
    "- Good - the question poses a direction to which the data experimentation should draw towards and implies a data experimentation that will carry different factors in understanding what increases the risk of breast cancer. You can experiment with different genes that are triggered by a wide-range of factors and ultimately drill down what those risks are.\n",
    "\n",
    "9) Is it better to read to children at night or in the morning?\n",
    "- Good - the question creates two different outcomes to experiment off of and you can do testing to compare the results of both situations. You can see what works between both situations and whether that elevates children or not and an experimentation would be useful in this situation.\n",
    "\n",
    "10) How does Google’s search algorithm work?\n",
    "- Bad - I think this question is more of a straightforward answer than anything that involves thorough experimentation or testing. A better question might be \"Based on the Google search algorithm for online retail shopping, was Amazon the most popular retail site in 2018?\" A question that has experimentation implied would be best."
   ]
  },
  {
   "cell_type": "code",
   "execution_count": null,
   "metadata": {},
   "outputs": [],
   "source": []
  }
 ],
 "metadata": {
  "kernelspec": {
   "display_name": "Python 3",
   "language": "python",
   "name": "python3"
  },
  "language_info": {
   "codemirror_mode": {
    "name": "ipython",
    "version": 3
   },
   "file_extension": ".py",
   "mimetype": "text/x-python",
   "name": "python",
   "nbconvert_exporter": "python",
   "pygments_lexer": "ipython3",
   "version": "3.7.0"
  }
 },
 "nbformat": 4,
 "nbformat_minor": 2
}
